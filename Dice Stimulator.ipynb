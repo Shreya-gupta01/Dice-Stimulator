{
 "cells": [
  {
   "cell_type": "code",
   "execution_count": 1,
   "metadata": {},
   "outputs": [
    {
     "name": "stdout",
     "output_type": "stream",
     "text": [
      "This is a dice stimulator program.\n",
      "----------\n",
      "|0      0|\n",
      "|        |\n",
      "|0      0|\n",
      "----------\n",
      "press y to roll againy\n",
      "----------\n",
      "|0      0|\n",
      "|    0   |\n",
      "|0      0|\n",
      "----------\n",
      "press y to roll againy\n",
      "----------\n",
      "|0      0|\n",
      "|0      0|\n",
      "|0      0|\n",
      "----------\n",
      "press y to roll againd\n"
     ]
    }
   ],
   "source": [
    "import random\n",
    "print(\"This is a dice stimulator program.\")\n",
    "x='y'\n",
    "while x=='y':\n",
    "    n=random.randint(1,6)\n",
    "    if n==1:\n",
    "        print(\"----------\")\n",
    "        print(\"|        |\")\n",
    "        print(\"|    0   |\")\n",
    "        print(\"|        |\")\n",
    "        print(\"----------\")\n",
    "    if n==2:\n",
    "        print(\"----------\")\n",
    "        print(\"|        |\")\n",
    "        print(\"|0      0|\")\n",
    "        print(\"|        |\")\n",
    "        print(\"----------\")\n",
    "    if n==3:\n",
    "        print(\"----------\")\n",
    "        print(\"|    0   |\")\n",
    "        print(\"|    0   |\")\n",
    "        print(\"|    0   |\")\n",
    "        print(\"----------\")\n",
    "    if n==4:\n",
    "        print(\"----------\")\n",
    "        print(\"|0      0|\")\n",
    "        print(\"|        |\")\n",
    "        print(\"|0      0|\")\n",
    "        print(\"----------\")\n",
    "    if n==5:\n",
    "        print(\"----------\")\n",
    "        print(\"|0      0|\")\n",
    "        print(\"|    0   |\")\n",
    "        print(\"|0      0|\")\n",
    "        print(\"----------\")\n",
    "    if n==6:\n",
    "        print(\"----------\")\n",
    "        print(\"|0      0|\")\n",
    "        print(\"|0      0|\")\n",
    "        print(\"|0      0|\")\n",
    "        print(\"----------\")\n",
    "    x=input(\"press y to roll again\")\n"
   ]
  },
  {
   "cell_type": "code",
   "execution_count": null,
   "metadata": {},
   "outputs": [],
   "source": []
  }
 ],
 "metadata": {
  "kernelspec": {
   "display_name": "Python 3",
   "language": "python",
   "name": "python3"
  },
  "language_info": {
   "codemirror_mode": {
    "name": "ipython",
    "version": 3
   },
   "file_extension": ".py",
   "mimetype": "text/x-python",
   "name": "python",
   "nbconvert_exporter": "python",
   "pygments_lexer": "ipython3",
   "version": "3.7.4"
  }
 },
 "nbformat": 4,
 "nbformat_minor": 2
}
